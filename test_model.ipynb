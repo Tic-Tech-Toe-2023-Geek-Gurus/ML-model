{
 "cells": [
  {
   "cell_type": "code",
   "execution_count": 25,
   "metadata": {},
   "outputs": [],
   "source": [
    "import numpy as np\n",
    "import pandas as pd\n",
    "import matplotlib.pyplot as plt\n",
    "import tensorflow as tf\n",
    "import os\n",
    "from PIL import Image\n",
    "import random"
   ]
  },
  {
   "cell_type": "code",
   "execution_count": 29,
   "metadata": {},
   "outputs": [],
   "source": [
    "dataset_path=\"./train/images/\"\n",
    "folders=os.listdir(dataset_path)\n",
    "\n",
    "X_train=[]\n",
    "y_train=[]\n",
    "X_test=[]\n",
    "y_test=[]\n",
    "\n",
    "num=np.random.rand(2700)\n",
    "mask=num<0.2\n",
    "split=mask.astype(int)\n",
    "\n",
    "i=0\n",
    "for dirs in folders:\n",
    "    for img in os.listdir(str(dataset_path+dirs)):\n",
    "        image=Image.open(str(dataset_path+dirs+'/'+img))\n",
    "        new_img=image.resize((200,200))\n",
    "        tmp_array=np.array(new_img)\n",
    "        if split[i]==0:\n",
    "            X_train.append(tmp_array)\n",
    "            y_train.append(str(dirs))\n",
    "        else:\n",
    "            X_test.append(tmp_array)\n",
    "            y_test.append(str(dirs))\n",
    "        \n",
    "        i=i+1"
   ]
  },
  {
   "cell_type": "code",
   "execution_count": 30,
   "metadata": {},
   "outputs": [
    {
     "name": "stdout",
     "output_type": "stream",
     "text": [
      "(2169, 200, 200, 4)\n",
      "(531, 200, 200, 4)\n",
      "(2169,)\n",
      "(531,)\n"
     ]
    }
   ],
   "source": [
    "X_train=np.array(X_train)\n",
    "y_train=np.array(y_train)\n",
    "X_test=np.array(X_test)\n",
    "y_test=np.array(y_test)\n",
    "\n",
    "print(X_train.shape)\n",
    "print(X_test.shape)\n",
    "print(y_train.shape)\n",
    "print(y_test.shape)"
   ]
  },
  {
   "cell_type": "code",
   "execution_count": 32,
   "metadata": {},
   "outputs": [
    {
     "data": {
      "text/plain": [
       "{'aew': 1,\n",
       " 'ahw': 2,\n",
       " 'aup': 3,\n",
       " 'awb': 4,\n",
       " 'axb': 5,\n",
       " 'bdl': 6,\n",
       " 'clb': 7,\n",
       " 'eey': 8,\n",
       " 'fem': 9,\n",
       " 'gka': 10,\n",
       " 'jmk': 11,\n",
       " 'ksp': 12,\n",
       " 'ljm': 13,\n",
       " 'lnh': 14,\n",
       " 'rms': 15,\n",
       " 'rxr': 16,\n",
       " 'slp': 17,\n",
       " 'slt': 18}"
      ]
     },
     "execution_count": 32,
     "metadata": {},
     "output_type": "execute_result"
    }
   ],
   "source": [
    "dict={}\n",
    "\n",
    "i=1\n",
    "for val in folders:\n",
    "    dict[val]=i\n",
    "    i=i+1\n",
    "\n",
    "dict"
   ]
  },
  {
   "cell_type": "code",
   "execution_count": 33,
   "metadata": {},
   "outputs": [],
   "source": [
    "i=0\n",
    "for val in y_train:\n",
    "    y_train[i]=dict[y_train[i]]\n",
    "    i=i+1\n",
    "\n",
    "i=0\n",
    "for val in y_test:\n",
    "    y_test[i]=dict[y_test[i]]\n",
    "    i=i+1"
   ]
  },
  {
   "cell_type": "code",
   "execution_count": null,
   "metadata": {},
   "outputs": [],
   "source": []
  }
 ],
 "metadata": {
  "kernelspec": {
   "display_name": "Python 3",
   "language": "python",
   "name": "python3"
  },
  "language_info": {
   "codemirror_mode": {
    "name": "ipython",
    "version": 3
   },
   "file_extension": ".py",
   "mimetype": "text/x-python",
   "name": "python",
   "nbconvert_exporter": "python",
   "pygments_lexer": "ipython3",
   "version": "3.11.3"
  },
  "orig_nbformat": 4
 },
 "nbformat": 4,
 "nbformat_minor": 2
}
