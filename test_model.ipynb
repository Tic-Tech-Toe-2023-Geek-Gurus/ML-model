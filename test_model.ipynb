{
 "cells": [
  {
   "cell_type": "code",
   "execution_count": 2,
   "metadata": {},
   "outputs": [],
   "source": [
    "import numpy as np\n",
    "import pandas as pd\n",
    "import matplotlib.pyplot as plt\n",
    "import tensorflow as tf\n",
    "import os\n",
    "from PIL import Image\n",
    "import random"
   ]
  },
  {
   "cell_type": "code",
   "execution_count": 3,
   "metadata": {},
   "outputs": [],
   "source": [
    "dataset_path=\"./train/images/\"\n",
    "folders=os.listdir(dataset_path)\n",
    "\n",
    "X_train=[]\n",
    "y_train=[]\n",
    "X_test=[]\n",
    "y_test=[]\n",
    "\n",
    "num=np.random.rand(2700)\n",
    "mask=num<0.2\n",
    "split=mask.astype(int)\n",
    "\n",
    "i=0\n",
    "for dirs in folders:\n",
    "    for img in os.listdir(str(dataset_path+dirs)):\n",
    "        image=Image.open(str(dataset_path+dirs+'/'+img))\n",
    "        new_img=image.resize((200,200))\n",
    "        tmp_array=np.array(new_img)/255.\n",
    "        if split[i]==0:\n",
    "            X_train.append(tmp_array)\n",
    "            y_train.append(str(dirs))\n",
    "        else:\n",
    "            X_test.append(tmp_array)\n",
    "            y_test.append(str(dirs))\n",
    "        \n",
    "        i=i+1"
   ]
  },
  {
   "cell_type": "code",
   "execution_count": 4,
   "metadata": {},
   "outputs": [
    {
     "data": {
      "text/plain": [
       "{'aew': 0,\n",
       " 'ahw': 1,\n",
       " 'aup': 2,\n",
       " 'awb': 3,\n",
       " 'axb': 4,\n",
       " 'bdl': 5,\n",
       " 'clb': 6,\n",
       " 'eey': 7,\n",
       " 'fem': 8,\n",
       " 'gka': 9,\n",
       " 'jmk': 10,\n",
       " 'ksp': 11,\n",
       " 'ljm': 12,\n",
       " 'lnh': 13,\n",
       " 'rms': 14,\n",
       " 'rxr': 15,\n",
       " 'slp': 16,\n",
       " 'slt': 17}"
      ]
     },
     "execution_count": 4,
     "metadata": {},
     "output_type": "execute_result"
    }
   ],
   "source": [
    "dict={}\n",
    "\n",
    "i=0\n",
    "for val in folders:\n",
    "    dict[val]=i\n",
    "    i=i+1\n",
    "\n",
    "dict"
   ]
  },
  {
   "cell_type": "code",
   "execution_count": 5,
   "metadata": {},
   "outputs": [],
   "source": [
    "i=0\n",
    "for val in y_train:\n",
    "    y_train[i]=dict[y_train[i]]\n",
    "    i=i+1\n",
    "\n",
    "i=0\n",
    "for val in y_test:\n",
    "    y_test[i]=dict[y_test[i]]\n",
    "    i=i+1"
   ]
  },
  {
   "cell_type": "code",
   "execution_count": 9,
   "metadata": {},
   "outputs": [],
   "source": [
    "import tensorflow.keras.layers as tfl\n",
    "\n",
    "def convolutional_model(input_shape):\n",
    "    input_img = tf.keras.Input(shape=input_shape)\n",
    "    Z1=tfl.Conv2D(filters=8,kernel_size=(4,4),strides=(1,1),padding='same')(input_img)\n",
    "    A1=tfl.ReLU()(Z1)\n",
    "    P1=tfl.MaxPool2D(pool_size=(8,8),strides=(8,8),padding='same')(A1)\n",
    "    Z2=tfl.Conv2D(filters=16,kernel_size=(2,2),strides=(1,1),padding='same')(P1)\n",
    "    A2=tfl.ReLU()(Z2)\n",
    "    P2=tfl.MaxPool2D(pool_size=(4,4),strides=(4,4),padding='same')(A2)\n",
    "    F=tfl.Flatten()(P2)\n",
    "    outputs=tfl.Dense(18,activation='softmax')(F)\n",
    "    \n",
    "    # YOUR CODE ENDS HERE\n",
    "    model = tf.keras.Model(inputs=input_img, outputs=outputs)\n",
    "    return model"
   ]
  },
  {
   "cell_type": "code",
   "execution_count": 10,
   "metadata": {},
   "outputs": [],
   "source": [
    "conv_model = convolutional_model((200, 200, 4))\n",
    "conv_model.compile(optimizer='adam',\n",
    "                  loss='sparse_categorical_crossentropy',\n",
    "                  metrics=['accuracy'])"
   ]
  },
  {
   "cell_type": "code",
   "execution_count": 11,
   "metadata": {},
   "outputs": [
    {
     "name": "stdout",
     "output_type": "stream",
     "text": [
      "Epoch 1/100\n",
      "34/34 [==============================] - 17s 462ms/step - loss: 3.4665 - accuracy: 0.0176 - val_loss: 2.9119 - val_accuracy: 0.0603\n",
      "Epoch 2/100\n",
      "34/34 [==============================] - 14s 422ms/step - loss: 3.0298 - accuracy: 0.0000e+00 - val_loss: 2.8869 - val_accuracy: 0.0676\n",
      "Epoch 3/100\n",
      "34/34 [==============================] - 14s 423ms/step - loss: 2.9799 - accuracy: 0.0525 - val_loss: 2.9015 - val_accuracy: 0.0512\n",
      "Epoch 4/100\n",
      "34/34 [==============================] - 15s 436ms/step - loss: 2.9285 - accuracy: 0.0325 - val_loss: 2.8919 - val_accuracy: 0.0512\n",
      "Epoch 5/100\n",
      "34/34 [==============================] - 14s 419ms/step - loss: 2.9000 - accuracy: 4.6447e-04 - val_loss: 2.8902 - val_accuracy: 0.0658\n",
      "Epoch 6/100\n",
      "34/34 [==============================] - 14s 398ms/step - loss: 2.8948 - accuracy: 0.0534 - val_loss: 2.8898 - val_accuracy: 0.0512\n",
      "Epoch 7/100\n",
      "34/34 [==============================] - 14s 407ms/step - loss: 2.8936 - accuracy: 0.0571 - val_loss: 2.8893 - val_accuracy: 0.0603\n",
      "Epoch 8/100\n",
      "34/34 [==============================] - 14s 400ms/step - loss: 2.8925 - accuracy: 0.0618 - val_loss: 2.8886 - val_accuracy: 0.0658\n",
      "Epoch 9/100\n",
      "34/34 [==============================] - 13s 396ms/step - loss: 2.8916 - accuracy: 0.0701 - val_loss: 2.8878 - val_accuracy: 0.0695\n",
      "Epoch 10/100\n",
      "34/34 [==============================] - 13s 395ms/step - loss: 2.8911 - accuracy: 0.0692 - val_loss: 2.8867 - val_accuracy: 0.0823\n",
      "Epoch 11/100\n",
      "34/34 [==============================] - 14s 404ms/step - loss: 2.8903 - accuracy: 0.0613 - val_loss: 2.8862 - val_accuracy: 0.0804\n",
      "Epoch 12/100\n",
      "34/34 [==============================] - 14s 401ms/step - loss: 2.8890 - accuracy: 0.0706 - val_loss: 2.8841 - val_accuracy: 0.1042\n",
      "Epoch 13/100\n",
      "34/34 [==============================] - 17s 509ms/step - loss: 2.8866 - accuracy: 0.1161 - val_loss: 2.8810 - val_accuracy: 0.0914\n",
      "Epoch 14/100\n",
      "34/34 [==============================] - 17s 498ms/step - loss: 2.8942 - accuracy: 0.0613 - val_loss: 2.8801 - val_accuracy: 0.1481\n",
      "Epoch 15/100\n",
      "34/34 [==============================] - 17s 495ms/step - loss: 2.8893 - accuracy: 0.0780 - val_loss: 2.8761 - val_accuracy: 0.1298\n",
      "Epoch 16/100\n",
      "34/34 [==============================] - 17s 509ms/step - loss: 2.9060 - accuracy: 0.1937 - val_loss: 3.1285 - val_accuracy: 0.0494\n",
      "Epoch 17/100\n",
      "34/34 [==============================] - 17s 514ms/step - loss: 3.0039 - accuracy: 0.0316 - val_loss: 2.8891 - val_accuracy: 0.0786\n",
      "Epoch 18/100\n",
      "34/34 [==============================] - 17s 500ms/step - loss: 2.9066 - accuracy: 0.0000e+00 - val_loss: 2.8912 - val_accuracy: 0.0585\n",
      "Epoch 19/100\n",
      "34/34 [==============================] - 17s 490ms/step - loss: 2.9010 - accuracy: 0.0000e+00 - val_loss: 2.8896 - val_accuracy: 0.0347\n",
      "Epoch 20/100\n",
      "34/34 [==============================] - 17s 490ms/step - loss: 2.8967 - accuracy: 0.0037 - val_loss: 2.8796 - val_accuracy: 0.0585\n",
      "Epoch 21/100\n",
      "34/34 [==============================] - 17s 489ms/step - loss: 2.8866 - accuracy: 0.0427 - val_loss: 2.8738 - val_accuracy: 0.0914\n",
      "Epoch 22/100\n",
      "34/34 [==============================] - 17s 498ms/step - loss: 2.8832 - accuracy: 0.0102 - val_loss: 2.8613 - val_accuracy: 0.1389\n",
      "Epoch 23/100\n",
      "34/34 [==============================] - 17s 496ms/step - loss: 2.9290 - accuracy: 0.0799 - val_loss: 2.8875 - val_accuracy: 0.0658\n",
      "Epoch 24/100\n",
      "34/34 [==============================] - 17s 494ms/step - loss: 2.8913 - accuracy: 0.0492 - val_loss: 2.8907 - val_accuracy: 0.0640\n",
      "Epoch 25/100\n",
      "34/34 [==============================] - 16s 464ms/step - loss: 2.8915 - accuracy: 0.0520 - val_loss: 2.8902 - val_accuracy: 0.0622\n",
      "Epoch 26/100\n",
      "34/34 [==============================] - 13s 373ms/step - loss: 2.8910 - accuracy: 0.0464 - val_loss: 2.8895 - val_accuracy: 0.0859\n",
      "Epoch 27/100\n",
      "34/34 [==============================] - 12s 361ms/step - loss: 2.8904 - accuracy: 0.0464 - val_loss: 2.8886 - val_accuracy: 0.1042\n",
      "Epoch 28/100\n",
      "34/34 [==============================] - 12s 359ms/step - loss: 2.8897 - accuracy: 0.0455 - val_loss: 2.8875 - val_accuracy: 0.1298\n",
      "Epoch 29/100\n",
      "34/34 [==============================] - 12s 360ms/step - loss: 2.8887 - accuracy: 0.0158 - val_loss: 2.8856 - val_accuracy: 0.1079\n",
      "Epoch 30/100\n",
      "34/34 [==============================] - 12s 366ms/step - loss: 2.8879 - accuracy: 0.0608 - val_loss: 2.8844 - val_accuracy: 0.1005\n",
      "Epoch 31/100\n",
      "34/34 [==============================] - 12s 363ms/step - loss: 2.8791 - accuracy: 0.0167 - val_loss: 2.8832 - val_accuracy: 0.0676\n",
      "Epoch 32/100\n",
      "34/34 [==============================] - 12s 363ms/step - loss: 2.9018 - accuracy: 0.0543 - val_loss: 2.8873 - val_accuracy: 0.0603\n",
      "Epoch 33/100\n",
      "34/34 [==============================] - 12s 360ms/step - loss: 2.8863 - accuracy: 0.0543 - val_loss: 2.8825 - val_accuracy: 0.0603\n",
      "Epoch 34/100\n",
      "34/34 [==============================] - 12s 367ms/step - loss: 2.8798 - accuracy: 0.0543 - val_loss: 2.8728 - val_accuracy: 0.1079\n",
      "Epoch 35/100\n",
      "34/34 [==============================] - 12s 368ms/step - loss: 2.8668 - accuracy: 0.0246 - val_loss: 2.8475 - val_accuracy: 0.0951\n",
      "Epoch 36/100\n",
      "34/34 [==============================] - 12s 360ms/step - loss: 3.0359 - accuracy: 0.1078 - val_loss: 2.8426 - val_accuracy: 0.1426\n",
      "Epoch 37/100\n",
      "34/34 [==============================] - 12s 362ms/step - loss: 2.8817 - accuracy: 0.0520 - val_loss: 2.8694 - val_accuracy: 0.1115\n",
      "Epoch 38/100\n",
      "34/34 [==============================] - 13s 369ms/step - loss: 2.8782 - accuracy: 0.1101 - val_loss: 2.8640 - val_accuracy: 0.1060\n",
      "Epoch 39/100\n",
      "34/34 [==============================] - 13s 372ms/step - loss: 2.8613 - accuracy: 0.0994 - val_loss: 2.8522 - val_accuracy: 0.0622\n",
      "Epoch 40/100\n",
      "34/34 [==============================] - 12s 364ms/step - loss: 2.8982 - accuracy: 0.0543 - val_loss: 2.8667 - val_accuracy: 0.1024\n",
      "Epoch 41/100\n",
      "34/34 [==============================] - 12s 365ms/step - loss: 2.8630 - accuracy: 0.0752 - val_loss: 2.8509 - val_accuracy: 0.1005\n",
      "Epoch 42/100\n",
      "34/34 [==============================] - 12s 364ms/step - loss: 2.8521 - accuracy: 0.0878 - val_loss: 2.8354 - val_accuracy: 0.1042\n",
      "Epoch 43/100\n",
      "34/34 [==============================] - 12s 364ms/step - loss: 2.8422 - accuracy: 0.1092 - val_loss: 2.8253 - val_accuracy: 0.1133\n",
      "Epoch 44/100\n",
      "34/34 [==============================] - 12s 365ms/step - loss: 2.8276 - accuracy: 0.0938 - val_loss: 2.7934 - val_accuracy: 0.1517\n",
      "Epoch 45/100\n",
      "34/34 [==============================] - 12s 363ms/step - loss: 2.8083 - accuracy: 0.1208 - val_loss: 2.7911 - val_accuracy: 0.1865\n",
      "Epoch 46/100\n",
      "34/34 [==============================] - 12s 362ms/step - loss: 2.7899 - accuracy: 0.1147 - val_loss: 2.7276 - val_accuracy: 0.2084\n",
      "Epoch 47/100\n",
      "34/34 [==============================] - 12s 361ms/step - loss: 2.7399 - accuracy: 0.0627 - val_loss: 3.0537 - val_accuracy: 0.1371\n",
      "Epoch 48/100\n",
      "34/34 [==============================] - 13s 377ms/step - loss: 2.8959 - accuracy: 0.0669 - val_loss: 2.8042 - val_accuracy: 0.1554\n",
      "Epoch 49/100\n",
      "34/34 [==============================] - 13s 393ms/step - loss: 2.7981 - accuracy: 0.1728 - val_loss: 2.7789 - val_accuracy: 0.1718\n",
      "Epoch 50/100\n",
      "34/34 [==============================] - 14s 398ms/step - loss: 2.7594 - accuracy: 0.1886 - val_loss: 2.6879 - val_accuracy: 0.1664\n",
      "Epoch 51/100\n",
      "34/34 [==============================] - 14s 413ms/step - loss: 2.6902 - accuracy: 0.1686 - val_loss: 2.5887 - val_accuracy: 0.1956\n",
      "Epoch 52/100\n",
      "34/34 [==============================] - 13s 389ms/step - loss: 2.6037 - accuracy: 0.1923 - val_loss: 2.5028 - val_accuracy: 0.1956\n",
      "Epoch 53/100\n",
      "34/34 [==============================] - 13s 370ms/step - loss: 2.6392 - accuracy: 0.1616 - val_loss: 2.5758 - val_accuracy: 0.2450\n",
      "Epoch 54/100\n",
      "34/34 [==============================] - 12s 367ms/step - loss: 2.5365 - accuracy: 0.1807 - val_loss: 2.3917 - val_accuracy: 0.2870\n",
      "Epoch 55/100\n",
      "34/34 [==============================] - 12s 367ms/step - loss: 2.4212 - accuracy: 0.2359 - val_loss: 2.2697 - val_accuracy: 0.3199\n",
      "Epoch 56/100\n",
      "34/34 [==============================] - 12s 365ms/step - loss: 2.3159 - accuracy: 0.2601 - val_loss: 2.2246 - val_accuracy: 0.3473\n",
      "Epoch 57/100\n",
      "34/34 [==============================] - 12s 368ms/step - loss: 2.2267 - accuracy: 0.3005 - val_loss: 2.3589 - val_accuracy: 0.1718\n",
      "Epoch 58/100\n",
      "34/34 [==============================] - 12s 365ms/step - loss: 2.1993 - accuracy: 0.2369 - val_loss: 2.5921 - val_accuracy: 0.1097\n",
      "Epoch 59/100\n",
      "34/34 [==============================] - 12s 363ms/step - loss: 2.5705 - accuracy: 0.1203 - val_loss: 2.1749 - val_accuracy: 0.3035\n",
      "Epoch 60/100\n",
      "34/34 [==============================] - 12s 364ms/step - loss: 2.4547 - accuracy: 0.2346 - val_loss: 2.1958 - val_accuracy: 0.3199\n",
      "Epoch 61/100\n",
      "34/34 [==============================] - 12s 364ms/step - loss: 2.1650 - accuracy: 0.3228 - val_loss: 1.9662 - val_accuracy: 0.4205\n",
      "Epoch 62/100\n",
      "34/34 [==============================] - 12s 363ms/step - loss: 2.0860 - accuracy: 0.2722 - val_loss: 1.9028 - val_accuracy: 0.3510\n",
      "Epoch 63/100\n",
      "34/34 [==============================] - 12s 364ms/step - loss: 1.9588 - accuracy: 0.3600 - val_loss: 1.6631 - val_accuracy: 0.5356\n",
      "Epoch 64/100\n",
      "34/34 [==============================] - 12s 363ms/step - loss: 1.9770 - accuracy: 0.3683 - val_loss: 1.8466 - val_accuracy: 0.4442\n",
      "Epoch 65/100\n",
      "34/34 [==============================] - 12s 364ms/step - loss: 1.8613 - accuracy: 0.3776 - val_loss: 1.7074 - val_accuracy: 0.4899\n",
      "Epoch 66/100\n",
      "34/34 [==============================] - 12s 362ms/step - loss: 1.7252 - accuracy: 0.3948 - val_loss: 1.4885 - val_accuracy: 0.5887\n",
      "Epoch 67/100\n",
      "34/34 [==============================] - 12s 364ms/step - loss: 1.6632 - accuracy: 0.3911 - val_loss: 1.5804 - val_accuracy: 0.4973\n",
      "Epoch 68/100\n",
      "34/34 [==============================] - 12s 362ms/step - loss: 1.6821 - accuracy: 0.4250 - val_loss: 1.4861 - val_accuracy: 0.5521\n",
      "Epoch 69/100\n",
      "34/34 [==============================] - 12s 363ms/step - loss: 1.5628 - accuracy: 0.4686 - val_loss: 1.2436 - val_accuracy: 0.6417\n",
      "Epoch 70/100\n",
      "34/34 [==============================] - 12s 367ms/step - loss: 1.4811 - accuracy: 0.5021 - val_loss: 1.1339 - val_accuracy: 0.7221\n",
      "Epoch 71/100\n",
      "34/34 [==============================] - 12s 364ms/step - loss: 1.3978 - accuracy: 0.4668 - val_loss: 1.1921 - val_accuracy: 0.6728\n",
      "Epoch 72/100\n",
      "34/34 [==============================] - 13s 385ms/step - loss: 1.3079 - accuracy: 0.5778 - val_loss: 0.9466 - val_accuracy: 0.7404\n",
      "Epoch 73/100\n",
      "34/34 [==============================] - 13s 389ms/step - loss: 1.2413 - accuracy: 0.5615 - val_loss: 0.8291 - val_accuracy: 0.8080\n",
      "Epoch 74/100\n",
      "34/34 [==============================] - 13s 389ms/step - loss: 1.1294 - accuracy: 0.5708 - val_loss: 0.8469 - val_accuracy: 0.7989\n",
      "Epoch 75/100\n",
      "34/34 [==============================] - 13s 391ms/step - loss: 1.0455 - accuracy: 0.6795 - val_loss: 0.7789 - val_accuracy: 0.7788\n",
      "Epoch 76/100\n",
      "34/34 [==============================] - 13s 386ms/step - loss: 0.9828 - accuracy: 0.6828 - val_loss: 0.7040 - val_accuracy: 0.8117\n",
      "Epoch 77/100\n",
      "34/34 [==============================] - 13s 372ms/step - loss: 0.8933 - accuracy: 0.7069 - val_loss: 0.6322 - val_accuracy: 0.8428\n",
      "Epoch 78/100\n",
      "34/34 [==============================] - 12s 362ms/step - loss: 0.8373 - accuracy: 0.7274 - val_loss: 0.5552 - val_accuracy: 0.8629\n",
      "Epoch 79/100\n",
      "34/34 [==============================] - 12s 363ms/step - loss: 0.7992 - accuracy: 0.7329 - val_loss: 0.5137 - val_accuracy: 0.8519\n",
      "Epoch 80/100\n",
      "34/34 [==============================] - 12s 360ms/step - loss: 0.7421 - accuracy: 0.7501 - val_loss: 0.5296 - val_accuracy: 0.8355\n",
      "Epoch 81/100\n",
      "34/34 [==============================] - 12s 363ms/step - loss: 0.6941 - accuracy: 0.7575 - val_loss: 0.5403 - val_accuracy: 0.8245\n",
      "Epoch 82/100\n",
      "34/34 [==============================] - 12s 361ms/step - loss: 0.6864 - accuracy: 0.7524 - val_loss: 0.5018 - val_accuracy: 0.8373\n",
      "Epoch 83/100\n",
      "34/34 [==============================] - 12s 361ms/step - loss: 0.6239 - accuracy: 0.7840 - val_loss: 0.4059 - val_accuracy: 0.8812\n",
      "Epoch 84/100\n",
      "34/34 [==============================] - 13s 368ms/step - loss: 0.5737 - accuracy: 0.8063 - val_loss: 0.3873 - val_accuracy: 0.9031\n",
      "Epoch 85/100\n",
      "34/34 [==============================] - 12s 362ms/step - loss: 0.5365 - accuracy: 0.8277 - val_loss: 0.4287 - val_accuracy: 0.8793\n",
      "Epoch 86/100\n",
      "34/34 [==============================] - 12s 365ms/step - loss: 0.5188 - accuracy: 0.8333 - val_loss: 0.3903 - val_accuracy: 0.8940\n",
      "Epoch 87/100\n",
      "34/34 [==============================] - 12s 363ms/step - loss: 0.4734 - accuracy: 0.8518 - val_loss: 0.3227 - val_accuracy: 0.9159\n",
      "Epoch 88/100\n",
      "34/34 [==============================] - 12s 363ms/step - loss: 0.4063 - accuracy: 0.8834 - val_loss: 0.2797 - val_accuracy: 0.9269\n",
      "Epoch 89/100\n",
      "34/34 [==============================] - 12s 363ms/step - loss: 0.3752 - accuracy: 0.8895 - val_loss: 0.2695 - val_accuracy: 0.9232\n",
      "Epoch 90/100\n",
      "34/34 [==============================] - 12s 364ms/step - loss: 0.3583 - accuracy: 0.8913 - val_loss: 0.2633 - val_accuracy: 0.9250\n",
      "Epoch 91/100\n",
      "34/34 [==============================] - 12s 364ms/step - loss: 0.3437 - accuracy: 0.8955 - val_loss: 0.2484 - val_accuracy: 0.9287\n",
      "Epoch 92/100\n",
      "34/34 [==============================] - 12s 364ms/step - loss: 0.3227 - accuracy: 0.9015 - val_loss: 0.2394 - val_accuracy: 0.9324\n",
      "Epoch 93/100\n",
      "34/34 [==============================] - 13s 370ms/step - loss: 0.3079 - accuracy: 0.9066 - val_loss: 0.2267 - val_accuracy: 0.9397\n",
      "Epoch 94/100\n",
      "34/34 [==============================] - 12s 363ms/step - loss: 0.2900 - accuracy: 0.9122 - val_loss: 0.2203 - val_accuracy: 0.9342\n",
      "Epoch 95/100\n",
      "34/34 [==============================] - 12s 366ms/step - loss: 0.2781 - accuracy: 0.9196 - val_loss: 0.2094 - val_accuracy: 0.9452\n",
      "Epoch 96/100\n",
      "34/34 [==============================] - 12s 366ms/step - loss: 0.2630 - accuracy: 0.9215 - val_loss: 0.2057 - val_accuracy: 0.9378\n",
      "Epoch 97/100\n",
      "34/34 [==============================] - 13s 393ms/step - loss: 0.2532 - accuracy: 0.9252 - val_loss: 0.1948 - val_accuracy: 0.9488\n",
      "Epoch 98/100\n",
      "34/34 [==============================] - 13s 375ms/step - loss: 0.2397 - accuracy: 0.9299 - val_loss: 0.1928 - val_accuracy: 0.9415\n",
      "Epoch 99/100\n",
      "34/34 [==============================] - 12s 364ms/step - loss: 0.2316 - accuracy: 0.9303 - val_loss: 0.1822 - val_accuracy: 0.9488\n",
      "Epoch 100/100\n",
      "34/34 [==============================] - 12s 364ms/step - loss: 0.2198 - accuracy: 0.9336 - val_loss: 0.1830 - val_accuracy: 0.9433\n"
     ]
    }
   ],
   "source": [
    "train_dataset = tf.data.Dataset.from_tensor_slices((X_train, y_train)).batch(64)\n",
    "test_dataset = tf.data.Dataset.from_tensor_slices((X_test, y_test)).batch(64)\n",
    "history = conv_model.fit(train_dataset, epochs=100, validation_data=test_dataset)"
   ]
  },
  {
   "cell_type": "code",
   "execution_count": 20,
   "metadata": {},
   "outputs": [
    {
     "name": "stdout",
     "output_type": "stream",
     "text": [
      "1/1 [==============================] - 0s 25ms/step\n"
     ]
    }
   ],
   "source": [
    "var = conv_model.predict(tf.expand_dims(X_test[78],axis=0))"
   ]
  },
  {
   "cell_type": "code",
   "execution_count": 21,
   "metadata": {},
   "outputs": [
    {
     "data": {
      "text/plain": [
       "array([[2.6111604e-05, 2.4635265e-05, 9.8532331e-01, 5.5552891e-04,\n",
       "        4.7257527e-07, 3.1518270e-03, 2.6294620e-09, 1.3930093e-05,\n",
       "        6.4613250e-06, 4.8869856e-06, 8.7781671e-05, 7.7206190e-03,\n",
       "        5.9787275e-05, 8.0533852e-07, 1.8834568e-03, 1.1113530e-03,\n",
       "        9.6940478e-10, 2.9119377e-05]], dtype=float32)"
      ]
     },
     "execution_count": 21,
     "metadata": {},
     "output_type": "execute_result"
    }
   ],
   "source": [
    "var"
   ]
  },
  {
   "cell_type": "code",
   "execution_count": 22,
   "metadata": {},
   "outputs": [
    {
     "data": {
      "text/plain": [
       "(1, 18)"
      ]
     },
     "execution_count": 22,
     "metadata": {},
     "output_type": "execute_result"
    }
   ],
   "source": [
    "var.shape"
   ]
  },
  {
   "cell_type": "code",
   "execution_count": 24,
   "metadata": {},
   "outputs": [
    {
     "data": {
      "text/plain": [
       "2"
      ]
     },
     "execution_count": 24,
     "metadata": {},
     "output_type": "execute_result"
    }
   ],
   "source": [
    "y_test[78]"
   ]
  },
  {
   "cell_type": "code",
   "execution_count": null,
   "metadata": {},
   "outputs": [],
   "source": []
  }
 ],
 "metadata": {
  "kernelspec": {
   "display_name": "Python 3",
   "language": "python",
   "name": "python3"
  },
  "language_info": {
   "codemirror_mode": {
    "name": "ipython",
    "version": 3
   },
   "file_extension": ".py",
   "mimetype": "text/x-python",
   "name": "python",
   "nbconvert_exporter": "python",
   "pygments_lexer": "ipython3",
   "version": "3.11.1"
  },
  "orig_nbformat": 4
 },
 "nbformat": 4,
 "nbformat_minor": 2
}
